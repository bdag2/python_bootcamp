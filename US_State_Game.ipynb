{
 "cells": [
  {
   "cell_type": "code",
   "execution_count": 1,
   "id": "0070511b-d8da-4a30-a6de-a8da13305f34",
   "metadata": {},
   "outputs": [
    {
     "ename": "AttributeError",
     "evalue": "'NoneType' object has no attribute 'title'",
     "output_type": "error",
     "traceback": [
      "\u001b[1;31m---------------------------------------------------------------------------\u001b[0m",
      "\u001b[1;31mAttributeError\u001b[0m                            Traceback (most recent call last)",
      "Cell \u001b[1;32mIn[1], line 19\u001b[0m\n\u001b[0;32m     17\u001b[0m count \u001b[38;5;241m=\u001b[39m \u001b[38;5;241m0\u001b[39m\n\u001b[0;32m     18\u001b[0m \u001b[38;5;28;01mwhile\u001b[39;00m \u001b[38;5;28;01mTrue\u001b[39;00m:\n\u001b[1;32m---> 19\u001b[0m     answer_state \u001b[38;5;241m=\u001b[39m \u001b[43m(\u001b[49m\u001b[43mscreen\u001b[49m\u001b[38;5;241;43m.\u001b[39;49m\u001b[43mtextinput\u001b[49m\u001b[43m(\u001b[49m\u001b[43mtitle\u001b[49m\u001b[38;5;241;43m=\u001b[39;49m\u001b[38;5;124;43mf\u001b[39;49m\u001b[38;5;124;43m\"\u001b[39;49m\u001b[38;5;132;43;01m{\u001b[39;49;00m\u001b[43mcount\u001b[49m\u001b[38;5;132;43;01m}\u001b[39;49;00m\u001b[38;5;124;43m/50\u001b[39;49m\u001b[38;5;124;43m\"\u001b[39;49m\u001b[43m,\u001b[49m\u001b[43m \u001b[49m\u001b[43mprompt\u001b[49m\u001b[38;5;241;43m=\u001b[39;49m\u001b[38;5;124;43m\"\u001b[39;49m\u001b[38;5;124;43mWhat\u001b[39;49m\u001b[38;5;124;43m'\u001b[39;49m\u001b[38;5;124;43ms another state\u001b[39;49m\u001b[38;5;124;43m'\u001b[39;49m\u001b[38;5;124;43ms name?\u001b[39;49m\u001b[38;5;124;43m\"\u001b[39;49m\u001b[43m)\u001b[49m\u001b[43m)\u001b[49m\u001b[38;5;241;43m.\u001b[39;49m\u001b[43mtitle\u001b[49m()\n\u001b[0;32m     20\u001b[0m     \u001b[38;5;28;01mif\u001b[39;00m answer_state \u001b[38;5;129;01min\u001b[39;00m state_list:\n\u001b[0;32m     21\u001b[0m         \u001b[38;5;28;01mif\u001b[39;00m answer_state \u001b[38;5;129;01mnot\u001b[39;00m \u001b[38;5;129;01min\u001b[39;00m known_states:\n",
      "\u001b[1;31mAttributeError\u001b[0m: 'NoneType' object has no attribute 'title'"
     ]
    }
   ],
   "source": [
    "import turtle\n",
    "from turtle import Turtle, Screen\n",
    "import pandas\n",
    "import time\n",
    "\n",
    "data = pandas.read_csv(\"50_states.csv\")\n",
    "screen = Screen()\n",
    "screen.title(\"U.S. State Game\")\n",
    "image = \"blank_states_img.gif\"\n",
    "screen.addshape(image)\n",
    "answer = Turtle()\n",
    "warning = Turtle()\n",
    "state_list = data[\"state\"].to_list()\n",
    "state_dict = data.to_dict()\n",
    "known_states = []\n",
    "turtle.shape(image)\n",
    "count = 0\n",
    "while True:\n",
    "    answer_state = (screen.textinput(title=f\"{count}/50\", prompt=\"What's another state's name?\")).title()\n",
    "    if answer_state in state_list:\n",
    "        if answer_state not in known_states:\n",
    "            count += 1\n",
    "            state = data[data[\"state\"] == f\"{answer_state}\"]\n",
    "            state_x_coord = state.iloc[0][\"x\"]\n",
    "            state_y_coord = state.iloc[0][\"y\"]\n",
    "            answer.penup()\n",
    "            answer.hideturtle()\n",
    "            answer.goto(state_x_coord, state_y_coord)\n",
    "            answer.write(f\"{answer_state}\")\n",
    "            known_states.append(answer_state)\n",
    "            if len(known_states) == 50:\n",
    "                warning.hideturtle()\n",
    "                warning.penup()\n",
    "                warning.goto(0, 0)\n",
    "                warning.write(\"You win\", align=\"center\", font=(\"Arial\", 16, 'bold'))\n",
    "                break\n",
    "        else:\n",
    "            warning.hideturtle()\n",
    "            warning.penup()\n",
    "            warning.goto(0, 0)\n",
    "            warning.write(\"You've already known this state\", align=\"center\", font=(\"Arial\", 16, 'bold'))\n",
    "            time.sleep(1)\n",
    "            warning.clear()\n",
    "\n",
    "    else:\n",
    "        warning.hideturtle()\n",
    "        warning.penup()\n",
    "        warning.goto(0,0)\n",
    "        warning.write(\"There is no such state exists\", align=\"center\", font = (\"Arial\", 16, 'bold') )\n",
    "        time.sleep(1)\n",
    "        warning.clear()\n",
    "screen.exitonclick()\n"
   ]
  },
  {
   "cell_type": "code",
   "execution_count": null,
   "id": "d6d7a4a1-c5ca-4b72-815b-81133c51a162",
   "metadata": {},
   "outputs": [],
   "source": []
  },
  {
   "cell_type": "code",
   "execution_count": null,
   "id": "4322451e-f920-4e7b-a062-3940c18354d1",
   "metadata": {},
   "outputs": [],
   "source": []
  },
  {
   "cell_type": "code",
   "execution_count": null,
   "id": "babaeb30-9d8f-4cfe-a573-e9d49e9c6b53",
   "metadata": {},
   "outputs": [],
   "source": []
  },
  {
   "cell_type": "code",
   "execution_count": null,
   "id": "8272a0b6-46bd-4934-b18c-e64fb42d980a",
   "metadata": {},
   "outputs": [],
   "source": []
  },
  {
   "cell_type": "code",
   "execution_count": null,
   "id": "14110bcc-cf85-469c-a402-3d9cf4458da7",
   "metadata": {},
   "outputs": [],
   "source": []
  }
 ],
 "metadata": {
  "kernelspec": {
   "display_name": "Python 3 (ipykernel)",
   "language": "python",
   "name": "python3"
  },
  "language_info": {
   "codemirror_mode": {
    "name": "ipython",
    "version": 3
   },
   "file_extension": ".py",
   "mimetype": "text/x-python",
   "name": "python",
   "nbconvert_exporter": "python",
   "pygments_lexer": "ipython3",
   "version": "3.12.1"
  }
 },
 "nbformat": 4,
 "nbformat_minor": 5
}
